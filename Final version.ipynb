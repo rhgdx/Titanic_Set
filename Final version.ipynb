{
 "cells": [
  {
   "cell_type": "code",
   "execution_count": 2,
   "metadata": {},
   "outputs": [],
   "source": [
    "import numpy as np # data analysis\n",
    "import pandas as pd # data processing, CSV file reading\n",
    "import matplotlib.pyplot as plt #plotting and charts\n",
    "import seaborn as sns #prettier charts, some extra features\n",
    "\n",
    "#normally\n",
    "from sklearn.preprocessing import LabelEncoder #couldn't figure out the dummy variables in pandas, this was next best\n",
    "from sklearn.preprocessing import StandardScaler #someone told me about this, scales everything so scores are 0-100 / 0-1\n",
    "from sklearn.model_selection import train_test_split #getting tired of sk learn here\n",
    "from sklearn.linear_model import LogisticRegression #ML logistic regression\n",
    "from sklearn.tree import DecisionTreeClassifier # DCT ML\n",
    "from sklearn.ensemble import RandomForestClassifier #Finally random forest plz no more sklearn kits\n",
    "\n",
    "\n",
    "%matplotlib inline "
   ]
  },
  {
   "cell_type": "code",
   "execution_count": 3,
   "metadata": {},
   "outputs": [],
   "source": [
    "train = pd.read_csv('train.csv') #reads in folder, should I figure out other solutions?\n",
    "test = pd.read_csv('test.csv') #test file"
   ]
  },
  {
   "cell_type": "code",
   "execution_count": 4,
   "metadata": {},
   "outputs": [
    {
     "name": "stdout",
     "output_type": "stream",
     "text": [
      "['S' 'C' 'Q' nan]\n"
     ]
    }
   ],
   "source": [
    "print(train['Embarked'].unique())"
   ]
  },
  {
   "cell_type": "code",
   "execution_count": 5,
   "metadata": {},
   "outputs": [
    {
     "data": {
      "text/html": [
       "<div>\n",
       "<style scoped>\n",
       "    .dataframe tbody tr th:only-of-type {\n",
       "        vertical-align: middle;\n",
       "    }\n",
       "\n",
       "    .dataframe tbody tr th {\n",
       "        vertical-align: top;\n",
       "    }\n",
       "\n",
       "    .dataframe thead th {\n",
       "        text-align: right;\n",
       "    }\n",
       "</style>\n",
       "<table border=\"1\" class=\"dataframe\">\n",
       "  <thead>\n",
       "    <tr style=\"text-align: right;\">\n",
       "      <th></th>\n",
       "      <th>PassengerId</th>\n",
       "      <th>Survived</th>\n",
       "      <th>Pclass</th>\n",
       "      <th>Age</th>\n",
       "      <th>SibSp</th>\n",
       "      <th>Parch</th>\n",
       "      <th>Fare</th>\n",
       "    </tr>\n",
       "  </thead>\n",
       "  <tbody>\n",
       "    <tr>\n",
       "      <th>count</th>\n",
       "      <td>891.000000</td>\n",
       "      <td>891.000000</td>\n",
       "      <td>891.000000</td>\n",
       "      <td>714.000000</td>\n",
       "      <td>891.000000</td>\n",
       "      <td>891.000000</td>\n",
       "      <td>891.000000</td>\n",
       "    </tr>\n",
       "    <tr>\n",
       "      <th>mean</th>\n",
       "      <td>446.000000</td>\n",
       "      <td>0.383838</td>\n",
       "      <td>2.308642</td>\n",
       "      <td>29.699118</td>\n",
       "      <td>0.523008</td>\n",
       "      <td>0.381594</td>\n",
       "      <td>32.204208</td>\n",
       "    </tr>\n",
       "    <tr>\n",
       "      <th>std</th>\n",
       "      <td>257.353842</td>\n",
       "      <td>0.486592</td>\n",
       "      <td>0.836071</td>\n",
       "      <td>14.526497</td>\n",
       "      <td>1.102743</td>\n",
       "      <td>0.806057</td>\n",
       "      <td>49.693429</td>\n",
       "    </tr>\n",
       "    <tr>\n",
       "      <th>min</th>\n",
       "      <td>1.000000</td>\n",
       "      <td>0.000000</td>\n",
       "      <td>1.000000</td>\n",
       "      <td>0.420000</td>\n",
       "      <td>0.000000</td>\n",
       "      <td>0.000000</td>\n",
       "      <td>0.000000</td>\n",
       "    </tr>\n",
       "    <tr>\n",
       "      <th>25%</th>\n",
       "      <td>223.500000</td>\n",
       "      <td>0.000000</td>\n",
       "      <td>2.000000</td>\n",
       "      <td>20.125000</td>\n",
       "      <td>0.000000</td>\n",
       "      <td>0.000000</td>\n",
       "      <td>7.910400</td>\n",
       "    </tr>\n",
       "    <tr>\n",
       "      <th>50%</th>\n",
       "      <td>446.000000</td>\n",
       "      <td>0.000000</td>\n",
       "      <td>3.000000</td>\n",
       "      <td>28.000000</td>\n",
       "      <td>0.000000</td>\n",
       "      <td>0.000000</td>\n",
       "      <td>14.454200</td>\n",
       "    </tr>\n",
       "    <tr>\n",
       "      <th>75%</th>\n",
       "      <td>668.500000</td>\n",
       "      <td>1.000000</td>\n",
       "      <td>3.000000</td>\n",
       "      <td>38.000000</td>\n",
       "      <td>1.000000</td>\n",
       "      <td>0.000000</td>\n",
       "      <td>31.000000</td>\n",
       "    </tr>\n",
       "    <tr>\n",
       "      <th>max</th>\n",
       "      <td>891.000000</td>\n",
       "      <td>1.000000</td>\n",
       "      <td>3.000000</td>\n",
       "      <td>80.000000</td>\n",
       "      <td>8.000000</td>\n",
       "      <td>6.000000</td>\n",
       "      <td>512.329200</td>\n",
       "    </tr>\n",
       "  </tbody>\n",
       "</table>\n",
       "</div>"
      ],
      "text/plain": [
       "       PassengerId    Survived      Pclass         Age       SibSp  \\\n",
       "count   891.000000  891.000000  891.000000  714.000000  891.000000   \n",
       "mean    446.000000    0.383838    2.308642   29.699118    0.523008   \n",
       "std     257.353842    0.486592    0.836071   14.526497    1.102743   \n",
       "min       1.000000    0.000000    1.000000    0.420000    0.000000   \n",
       "25%     223.500000    0.000000    2.000000   20.125000    0.000000   \n",
       "50%     446.000000    0.000000    3.000000   28.000000    0.000000   \n",
       "75%     668.500000    1.000000    3.000000   38.000000    1.000000   \n",
       "max     891.000000    1.000000    3.000000   80.000000    8.000000   \n",
       "\n",
       "            Parch        Fare  \n",
       "count  891.000000  891.000000  \n",
       "mean     0.381594   32.204208  \n",
       "std      0.806057   49.693429  \n",
       "min      0.000000    0.000000  \n",
       "25%      0.000000    7.910400  \n",
       "50%      0.000000   14.454200  \n",
       "75%      0.000000   31.000000  \n",
       "max      6.000000  512.329200  "
      ]
     },
     "execution_count": 5,
     "metadata": {},
     "output_type": "execute_result"
    }
   ],
   "source": [
    "train.describe() #seeing the data with some typical metrics, age obviously has missing values, nothing else looks weird"
   ]
  },
  {
   "cell_type": "code",
   "execution_count": 6,
   "metadata": {},
   "outputs": [
    {
     "data": {
      "text/plain": [
       "<AxesSubplot:>"
      ]
     },
     "execution_count": 6,
     "metadata": {},
     "output_type": "execute_result"
    },
    {
     "data": {
      "image/png": "[encoded data removed]",
      "text/plain": [
       "<Figure size 432x288 with 1 Axes>"
      ]
     },
     "metadata": {
      "needs_background": "light"
     },
     "output_type": "display_data"
    }
   ],
   "source": [
    "sns.heatmap(train.isnull(), yticklabels = False, cbar = False,) #visual for null values in the data, sns makes nice graphs"
   ]
  },
  {
   "cell_type": "code",
   "execution_count": 7,
   "metadata": {},
   "outputs": [
    {
     "name": "stdout",
     "output_type": "stream",
     "text": [
      "<class 'pandas.core.frame.DataFrame'>\n",
      "RangeIndex: 891 entries, 0 to 890\n",
      "Data columns (total 12 columns):\n",
      " #   Column       Non-Null Count  Dtype  \n",
      "---  ------       --------------  -----  \n",
      " 0   PassengerId  891 non-null    int64  \n",
      " 1   Survived     891 non-null    int64  \n",
      " 2   Pclass       891 non-null    int64  \n",
      " 3   Name         891 non-null    object \n",
      " 4   Sex          891 non-null    object \n",
      " 5   Age          714 non-null    float64\n",
      " 6   SibSp        891 non-null    int64  \n",
      " 7   Parch        891 non-null    int64  \n",
      " 8   Ticket       891 non-null    object \n",
      " 9   Fare         891 non-null    float64\n",
      " 10  Cabin        204 non-null    object \n",
      " 11  Embarked     889 non-null    object \n",
      "dtypes: float64(2), int64(5), object(5)\n",
      "memory usage: 83.7+ KB\n"
     ]
    }
   ],
   "source": [
    "train.info() #essentially same as above, cabin and age have the most null values"
   ]
  },
  {
   "cell_type": "code",
   "execution_count": 8,
   "metadata": {},
   "outputs": [
    {
     "data": {
      "image/png": "[encoded data removed]",
      "text/plain": [
       "<Figure size 432x288 with 1 Axes>"
      ]
     },
     "metadata": {
      "needs_background": "light"
     },
     "output_type": "display_data"
    },
    {
     "data": {
      "image/png": "[encoded data removed]",
      "text/plain": [
       "<Figure size 432x288 with 1 Axes>"
      ]
     },
     "metadata": {
      "needs_background": "light"
     },
     "output_type": "display_data"
    },
    {
     "data": {
      "image/png": "[encoded data removed]",
      "text/plain": [
       "<Figure size 432x288 with 1 Axes>"
      ]
     },
     "metadata": {
      "needs_background": "light"
     },
     "output_type": "display_data"
    },
    {
     "data": {
      "image/png": "[encoded data removed]",
      "text/plain": [
       "<Figure size 432x288 with 1 Axes>"
      ]
     },
     "metadata": {
      "needs_background": "light"
     },
     "output_type": "display_data"
    }
   ],
   "source": [
    "df_num = train[['Age','SibSp','Parch','Fare']] #numeric variables for train\n",
    "df_cat = train[['Survived','Pclass','Sex','Ticket','Cabin','Embarked']] #categorical for train\n",
    "\n",
    "\n",
    "for i in df_num.columns:\n",
    "    plt.hist(df_num[i])\n",
    "    plt.title(i)\n",
    "    plt.show()"
   ]
  },
  {
   "cell_type": "code",
   "execution_count": 9,
   "metadata": {},
   "outputs": [
    {
     "name": "stdout",
     "output_type": "stream",
     "text": [
      "            Age     SibSp     Parch      Fare\n",
      "Age    1.000000 -0.308247 -0.189119  0.096067\n",
      "SibSp -0.308247  1.000000  0.414838  0.159651\n",
      "Parch -0.189119  0.414838  1.000000  0.216225\n",
      "Fare   0.096067  0.159651  0.216225  1.000000\n"
     ]
    }
   ],
   "source": [
    "print(df_num.corr()) #nothing interesting, only a moderate relationship"
   ]
  },
  {
   "cell_type": "code",
   "execution_count": 10,
   "metadata": {},
   "outputs": [
    {
     "data": {
      "text/html": [
       "<style  type=\"text/css\" >\n",
       "#T_9df6a0da_d9b8_11eb_80f7_244bfeb9b59brow0_col0,#T_9df6a0da_d9b8_11eb_80f7_244bfeb9b59brow1_col1,#T_9df6a0da_d9b8_11eb_80f7_244bfeb9b59brow2_col2,#T_9df6a0da_d9b8_11eb_80f7_244bfeb9b59brow3_col3,#T_9df6a0da_d9b8_11eb_80f7_244bfeb9b59brow4_col4,#T_9df6a0da_d9b8_11eb_80f7_244bfeb9b59brow5_col5,#T_9df6a0da_d9b8_11eb_80f7_244bfeb9b59brow6_col6{\n",
       "            background-color:  #08306b;\n",
       "            color:  #f1f1f1;\n",
       "        }#T_9df6a0da_d9b8_11eb_80f7_244bfeb9b59brow0_col1{\n",
       "            background-color:  #c7dbef;\n",
       "            color:  #000000;\n",
       "        }#T_9df6a0da_d9b8_11eb_80f7_244bfeb9b59brow0_col2{\n",
       "            background-color:  #add0e6;\n",
       "            color:  #000000;\n",
       "        }#T_9df6a0da_d9b8_11eb_80f7_244bfeb9b59brow0_col3{\n",
       "            background-color:  #b8d5ea;\n",
       "            color:  #000000;\n",
       "        }#T_9df6a0da_d9b8_11eb_80f7_244bfeb9b59brow0_col4,#T_9df6a0da_d9b8_11eb_80f7_244bfeb9b59brow3_col1{\n",
       "            background-color:  #d1e2f3;\n",
       "            color:  #000000;\n",
       "        }#T_9df6a0da_d9b8_11eb_80f7_244bfeb9b59brow0_col5{\n",
       "            background-color:  #d8e7f5;\n",
       "            color:  #000000;\n",
       "        }#T_9df6a0da_d9b8_11eb_80f7_244bfeb9b59brow0_col6{\n",
       "            background-color:  #a3cce3;\n",
       "            color:  #000000;\n",
       "        }#T_9df6a0da_d9b8_11eb_80f7_244bfeb9b59brow1_col0,#T_9df6a0da_d9b8_11eb_80f7_244bfeb9b59brow4_col3{\n",
       "            background-color:  #eef5fc;\n",
       "            color:  #000000;\n",
       "        }#T_9df6a0da_d9b8_11eb_80f7_244bfeb9b59brow1_col2{\n",
       "            background-color:  #dceaf6;\n",
       "            color:  #000000;\n",
       "        }#T_9df6a0da_d9b8_11eb_80f7_244bfeb9b59brow1_col3{\n",
       "            background-color:  #cde0f1;\n",
       "            color:  #000000;\n",
       "        }#T_9df6a0da_d9b8_11eb_80f7_244bfeb9b59brow1_col4{\n",
       "            background-color:  #cee0f2;\n",
       "            color:  #000000;\n",
       "        }#T_9df6a0da_d9b8_11eb_80f7_244bfeb9b59brow1_col5{\n",
       "            background-color:  #cadef0;\n",
       "            color:  #000000;\n",
       "        }#T_9df6a0da_d9b8_11eb_80f7_244bfeb9b59brow1_col6{\n",
       "            background-color:  #64a9d3;\n",
       "            color:  #000000;\n",
       "        }#T_9df6a0da_d9b8_11eb_80f7_244bfeb9b59brow2_col0{\n",
       "            background-color:  #f3f8fe;\n",
       "            color:  #000000;\n",
       "        }#T_9df6a0da_d9b8_11eb_80f7_244bfeb9b59brow2_col1,#T_9df6a0da_d9b8_11eb_80f7_244bfeb9b59brow2_col3,#T_9df6a0da_d9b8_11eb_80f7_244bfeb9b59brow2_col6,#T_9df6a0da_d9b8_11eb_80f7_244bfeb9b59brow3_col4,#T_9df6a0da_d9b8_11eb_80f7_244bfeb9b59brow3_col5,#T_9df6a0da_d9b8_11eb_80f7_244bfeb9b59brow4_col0,#T_9df6a0da_d9b8_11eb_80f7_244bfeb9b59brow6_col2{\n",
       "            background-color:  #f7fbff;\n",
       "            color:  #000000;\n",
       "        }#T_9df6a0da_d9b8_11eb_80f7_244bfeb9b59brow2_col4{\n",
       "            background-color:  #b7d4ea;\n",
       "            color:  #000000;\n",
       "        }#T_9df6a0da_d9b8_11eb_80f7_244bfeb9b59brow2_col5{\n",
       "            background-color:  #d5e5f4;\n",
       "            color:  #000000;\n",
       "        }#T_9df6a0da_d9b8_11eb_80f7_244bfeb9b59brow3_col0{\n",
       "            background-color:  #e6f0f9;\n",
       "            color:  #000000;\n",
       "        }#T_9df6a0da_d9b8_11eb_80f7_244bfeb9b59brow3_col2{\n",
       "            background-color:  #e0ecf8;\n",
       "            color:  #000000;\n",
       "        }#T_9df6a0da_d9b8_11eb_80f7_244bfeb9b59brow3_col6{\n",
       "            background-color:  #8dc1dd;\n",
       "            color:  #000000;\n",
       "        }#T_9df6a0da_d9b8_11eb_80f7_244bfeb9b59brow4_col1{\n",
       "            background-color:  #cbdef1;\n",
       "            color:  #000000;\n",
       "        }#T_9df6a0da_d9b8_11eb_80f7_244bfeb9b59brow4_col2{\n",
       "            background-color:  #91c3de;\n",
       "            color:  #000000;\n",
       "        }#T_9df6a0da_d9b8_11eb_80f7_244bfeb9b59brow4_col5{\n",
       "            background-color:  #68acd5;\n",
       "            color:  #000000;\n",
       "        }#T_9df6a0da_d9b8_11eb_80f7_244bfeb9b59brow4_col6{\n",
       "            background-color:  #7cb7da;\n",
       "            color:  #000000;\n",
       "        }#T_9df6a0da_d9b8_11eb_80f7_244bfeb9b59brow5_col0{\n",
       "            background-color:  #edf4fc;\n",
       "            color:  #000000;\n",
       "        }#T_9df6a0da_d9b8_11eb_80f7_244bfeb9b59brow5_col1{\n",
       "            background-color:  #b2d2e8;\n",
       "            color:  #000000;\n",
       "        }#T_9df6a0da_d9b8_11eb_80f7_244bfeb9b59brow5_col2{\n",
       "            background-color:  #a1cbe2;\n",
       "            color:  #000000;\n",
       "        }#T_9df6a0da_d9b8_11eb_80f7_244bfeb9b59brow5_col3{\n",
       "            background-color:  #ddeaf7;\n",
       "            color:  #000000;\n",
       "        }#T_9df6a0da_d9b8_11eb_80f7_244bfeb9b59brow5_col4{\n",
       "            background-color:  #5aa2cf;\n",
       "            color:  #000000;\n",
       "        }#T_9df6a0da_d9b8_11eb_80f7_244bfeb9b59brow5_col6{\n",
       "            background-color:  #6dafd7;\n",
       "            color:  #000000;\n",
       "        }#T_9df6a0da_d9b8_11eb_80f7_244bfeb9b59brow6_col0{\n",
       "            background-color:  #eaf3fb;\n",
       "            color:  #000000;\n",
       "        }#T_9df6a0da_d9b8_11eb_80f7_244bfeb9b59brow6_col1{\n",
       "            background-color:  #82bbdb;\n",
       "            color:  #000000;\n",
       "        }#T_9df6a0da_d9b8_11eb_80f7_244bfeb9b59brow6_col3{\n",
       "            background-color:  #aacfe5;\n",
       "            color:  #000000;\n",
       "        }#T_9df6a0da_d9b8_11eb_80f7_244bfeb9b59brow6_col4{\n",
       "            background-color:  #a4cce3;\n",
       "            color:  #000000;\n",
       "        }#T_9df6a0da_d9b8_11eb_80f7_244bfeb9b59brow6_col5{\n",
       "            background-color:  #a9cfe5;\n",
       "            color:  #000000;\n",
       "        }</style><table id=\"T_9df6a0da_d9b8_11eb_80f7_244bfeb9b59b\" ><thead>    <tr>        <th class=\"blank level0\" ></th>        <th class=\"col_heading level0 col0\" >PassengerId</th>        <th class=\"col_heading level0 col1\" >Survived</th>        <th class=\"col_heading level0 col2\" >Pclass</th>        <th class=\"col_heading level0 col3\" >Age</th>        <th class=\"col_heading level0 col4\" >SibSp</th>        <th class=\"col_heading level0 col5\" >Parch</th>        <th class=\"col_heading level0 col6\" >Fare</th>    </tr></thead><tbody>\n",
       "                <tr>\n",
       "                        <th id=\"T_9df6a0da_d9b8_11eb_80f7_244bfeb9b59blevel0_row0\" class=\"row_heading level0 row0\" >PassengerId</th>\n",
       "                        <td id=\"T_9df6a0da_d9b8_11eb_80f7_244bfeb9b59brow0_col0\" class=\"data row0 col0\" >1.00</td>\n",
       "                        <td id=\"T_9df6a0da_d9b8_11eb_80f7_244bfeb9b59brow0_col1\" class=\"data row0 col1\" >-0.01</td>\n",
       "                        <td id=\"T_9df6a0da_d9b8_11eb_80f7_244bfeb9b59brow0_col2\" class=\"data row0 col2\" >-0.04</td>\n",
       "                        <td id=\"T_9df6a0da_d9b8_11eb_80f7_244bfeb9b59brow0_col3\" class=\"data row0 col3\" >0.04</td>\n",
       "                        <td id=\"T_9df6a0da_d9b8_11eb_80f7_244bfeb9b59brow0_col4\" class=\"data row0 col4\" >-0.06</td>\n",
       "                        <td id=\"T_9df6a0da_d9b8_11eb_80f7_244bfeb9b59brow0_col5\" class=\"data row0 col5\" >-0.00</td>\n",
       "                        <td id=\"T_9df6a0da_d9b8_11eb_80f7_244bfeb9b59brow0_col6\" class=\"data row0 col6\" >0.01</td>\n",
       "            </tr>\n",
       "            <tr>\n",
       "                        <th id=\"T_9df6a0da_d9b8_11eb_80f7_244bfeb9b59blevel0_row1\" class=\"row_heading level0 row1\" >Survived</th>\n",
       "                        <td id=\"T_9df6a0da_d9b8_11eb_80f7_244bfeb9b59brow1_col0\" class=\"data row1 col0\" >-0.01</td>\n",
       "                        <td id=\"T_9df6a0da_d9b8_11eb_80f7_244bfeb9b59brow1_col1\" class=\"data row1 col1\" >1.00</td>\n",
       "                        <td id=\"T_9df6a0da_d9b8_11eb_80f7_244bfeb9b59brow1_col2\" class=\"data row1 col2\" >-0.34</td>\n",
       "                        <td id=\"T_9df6a0da_d9b8_11eb_80f7_244bfeb9b59brow1_col3\" class=\"data row1 col3\" >-0.08</td>\n",
       "                        <td id=\"T_9df6a0da_d9b8_11eb_80f7_244bfeb9b59brow1_col4\" class=\"data row1 col4\" >-0.04</td>\n",
       "                        <td id=\"T_9df6a0da_d9b8_11eb_80f7_244bfeb9b59brow1_col5\" class=\"data row1 col5\" >0.08</td>\n",
       "                        <td id=\"T_9df6a0da_d9b8_11eb_80f7_244bfeb9b59brow1_col6\" class=\"data row1 col6\" >0.26</td>\n",
       "            </tr>\n",
       "            <tr>\n",
       "                        <th id=\"T_9df6a0da_d9b8_11eb_80f7_244bfeb9b59blevel0_row2\" class=\"row_heading level0 row2\" >Pclass</th>\n",
       "                        <td id=\"T_9df6a0da_d9b8_11eb_80f7_244bfeb9b59brow2_col0\" class=\"data row2 col0\" >-0.04</td>\n",
       "                        <td id=\"T_9df6a0da_d9b8_11eb_80f7_244bfeb9b59brow2_col1\" class=\"data row2 col1\" >-0.34</td>\n",
       "                        <td id=\"T_9df6a0da_d9b8_11eb_80f7_244bfeb9b59brow2_col2\" class=\"data row2 col2\" >1.00</td>\n",
       "                        <td id=\"T_9df6a0da_d9b8_11eb_80f7_244bfeb9b59brow2_col3\" class=\"data row2 col3\" >-0.37</td>\n",
       "                        <td id=\"T_9df6a0da_d9b8_11eb_80f7_244bfeb9b59brow2_col4\" class=\"data row2 col4\" >0.08</td>\n",
       "                        <td id=\"T_9df6a0da_d9b8_11eb_80f7_244bfeb9b59brow2_col5\" class=\"data row2 col5\" >0.02</td>\n",
       "                        <td id=\"T_9df6a0da_d9b8_11eb_80f7_244bfeb9b59brow2_col6\" class=\"data row2 col6\" >-0.55</td>\n",
       "            </tr>\n",
       "            <tr>\n",
       "                        <th id=\"T_9df6a0da_d9b8_11eb_80f7_244bfeb9b59blevel0_row3\" class=\"row_heading level0 row3\" >Age</th>\n",
       "                        <td id=\"T_9df6a0da_d9b8_11eb_80f7_244bfeb9b59brow3_col0\" class=\"data row3 col0\" >0.04</td>\n",
       "                        <td id=\"T_9df6a0da_d9b8_11eb_80f7_244bfeb9b59brow3_col1\" class=\"data row3 col1\" >-0.08</td>\n",
       "                        <td id=\"T_9df6a0da_d9b8_11eb_80f7_244bfeb9b59brow3_col2\" class=\"data row3 col2\" >-0.37</td>\n",
       "                        <td id=\"T_9df6a0da_d9b8_11eb_80f7_244bfeb9b59brow3_col3\" class=\"data row3 col3\" >1.00</td>\n",
       "                        <td id=\"T_9df6a0da_d9b8_11eb_80f7_244bfeb9b59brow3_col4\" class=\"data row3 col4\" >-0.31</td>\n",
       "                        <td id=\"T_9df6a0da_d9b8_11eb_80f7_244bfeb9b59brow3_col5\" class=\"data row3 col5\" >-0.19</td>\n",
       "                        <td id=\"T_9df6a0da_d9b8_11eb_80f7_244bfeb9b59brow3_col6\" class=\"data row3 col6\" >0.10</td>\n",
       "            </tr>\n",
       "            <tr>\n",
       "                        <th id=\"T_9df6a0da_d9b8_11eb_80f7_244bfeb9b59blevel0_row4\" class=\"row_heading level0 row4\" >SibSp</th>\n",
       "                        <td id=\"T_9df6a0da_d9b8_11eb_80f7_244bfeb9b59brow4_col0\" class=\"data row4 col0\" >-0.06</td>\n",
       "                        <td id=\"T_9df6a0da_d9b8_11eb_80f7_244bfeb9b59brow4_col1\" class=\"data row4 col1\" >-0.04</td>\n",
       "                        <td id=\"T_9df6a0da_d9b8_11eb_80f7_244bfeb9b59brow4_col2\" class=\"data row4 col2\" >0.08</td>\n",
       "                        <td id=\"T_9df6a0da_d9b8_11eb_80f7_244bfeb9b59brow4_col3\" class=\"data row4 col3\" >-0.31</td>\n",
       "                        <td id=\"T_9df6a0da_d9b8_11eb_80f7_244bfeb9b59brow4_col4\" class=\"data row4 col4\" >1.00</td>\n",
       "                        <td id=\"T_9df6a0da_d9b8_11eb_80f7_244bfeb9b59brow4_col5\" class=\"data row4 col5\" >0.41</td>\n",
       "                        <td id=\"T_9df6a0da_d9b8_11eb_80f7_244bfeb9b59brow4_col6\" class=\"data row4 col6\" >0.16</td>\n",
       "            </tr>\n",
       "            <tr>\n",
       "                        <th id=\"T_9df6a0da_d9b8_11eb_80f7_244bfeb9b59blevel0_row5\" class=\"row_heading level0 row5\" >Parch</th>\n",
       "                        <td id=\"T_9df6a0da_d9b8_11eb_80f7_244bfeb9b59brow5_col0\" class=\"data row5 col0\" >-0.00</td>\n",
       "                        <td id=\"T_9df6a0da_d9b8_11eb_80f7_244bfeb9b59brow5_col1\" class=\"data row5 col1\" >0.08</td>\n",
       "                        <td id=\"T_9df6a0da_d9b8_11eb_80f7_244bfeb9b59brow5_col2\" class=\"data row5 col2\" >0.02</td>\n",
       "                        <td id=\"T_9df6a0da_d9b8_11eb_80f7_244bfeb9b59brow5_col3\" class=\"data row5 col3\" >-0.19</td>\n",
       "                        <td id=\"T_9df6a0da_d9b8_11eb_80f7_244bfeb9b59brow5_col4\" class=\"data row5 col4\" >0.41</td>\n",
       "                        <td id=\"T_9df6a0da_d9b8_11eb_80f7_244bfeb9b59brow5_col5\" class=\"data row5 col5\" >1.00</td>\n",
       "                        <td id=\"T_9df6a0da_d9b8_11eb_80f7_244bfeb9b59brow5_col6\" class=\"data row5 col6\" >0.22</td>\n",
       "            </tr>\n",
       "            <tr>\n",
       "                        <th id=\"T_9df6a0da_d9b8_11eb_80f7_244bfeb9b59blevel0_row6\" class=\"row_heading level0 row6\" >Fare</th>\n",
       "                        <td id=\"T_9df6a0da_d9b8_11eb_80f7_244bfeb9b59brow6_col0\" class=\"data row6 col0\" >0.01</td>\n",
       "                        <td id=\"T_9df6a0da_d9b8_11eb_80f7_244bfeb9b59brow6_col1\" class=\"data row6 col1\" >0.26</td>\n",
       "                        <td id=\"T_9df6a0da_d9b8_11eb_80f7_244bfeb9b59brow6_col2\" class=\"data row6 col2\" >-0.55</td>\n",
       "                        <td id=\"T_9df6a0da_d9b8_11eb_80f7_244bfeb9b59brow6_col3\" class=\"data row6 col3\" >0.10</td>\n",
       "                        <td id=\"T_9df6a0da_d9b8_11eb_80f7_244bfeb9b59brow6_col4\" class=\"data row6 col4\" >0.16</td>\n",
       "                        <td id=\"T_9df6a0da_d9b8_11eb_80f7_244bfeb9b59brow6_col5\" class=\"data row6 col5\" >0.22</td>\n",
       "                        <td id=\"T_9df6a0da_d9b8_11eb_80f7_244bfeb9b59brow6_col6\" class=\"data row6 col6\" >1.00</td>\n",
       "            </tr>\n",
       "    </tbody></table>"
      ],
      "text/plain": [
       "<pandas.io.formats.style.Styler at 0x24e64cb61f0>"
      ]
     },
     "execution_count": 10,
     "metadata": {},
     "output_type": "execute_result"
    }
   ],
   "source": [
    "corr = train.corr()\n",
    "corr.style.background_gradient(cmap='Blues').set_precision(2) #this is a bigger set but still, nothing eye catching"
   ]
  },
  {
   "cell_type": "code",
   "execution_count": 11,
   "metadata": {},
   "outputs": [
    {
     "data": {
      "text/plain": [
       "<AxesSubplot:xlabel='Survived', ylabel='count'>"
      ]
     },
     "execution_count": 11,
     "metadata": {},
     "output_type": "execute_result"
    },
    {
     "data": {
      "image/png": "[encoded data removed]",
      "text/plain": [
       "<Figure size 432x288 with 1 Axes>"
      ]
     },
     "metadata": {
      "needs_background": "light"
     },
     "output_type": "display_data"
    }
   ],
   "source": [
    "sns.countplot(x = \"Survived\", hue = \"Sex\", data = train) #confirms women survived a lot more than men did"
   ]
  },
  {
   "cell_type": "code",
   "execution_count": 12,
   "metadata": {},
   "outputs": [
    {
     "data": {
      "text/html": [
       "<div>\n",
       "<style scoped>\n",
       "    .dataframe tbody tr th:only-of-type {\n",
       "        vertical-align: middle;\n",
       "    }\n",
       "\n",
       "    .dataframe tbody tr th {\n",
       "        vertical-align: top;\n",
       "    }\n",
       "\n",
       "    .dataframe thead th {\n",
       "        text-align: right;\n",
       "    }\n",
       "</style>\n",
       "<table border=\"1\" class=\"dataframe\">\n",
       "  <thead>\n",
       "    <tr style=\"text-align: right;\">\n",
       "      <th></th>\n",
       "      <th>Survived</th>\n",
       "    </tr>\n",
       "    <tr>\n",
       "      <th>Sex</th>\n",
       "      <th></th>\n",
       "    </tr>\n",
       "  </thead>\n",
       "  <tbody>\n",
       "    <tr>\n",
       "      <th>female</th>\n",
       "      <td>0.742038</td>\n",
       "    </tr>\n",
       "    <tr>\n",
       "      <th>male</th>\n",
       "      <td>0.188908</td>\n",
       "    </tr>\n",
       "  </tbody>\n",
       "</table>\n",
       "</div>"
      ],
      "text/plain": [
       "        Survived\n",
       "Sex             \n",
       "female  0.742038\n",
       "male    0.188908"
      ]
     },
     "execution_count": 12,
     "metadata": {},
     "output_type": "execute_result"
    }
   ],
   "source": [
    "train.groupby('Sex')[['Survived']].mean() #definitely confirms it"
   ]
  },
  {
   "cell_type": "code",
   "execution_count": 13,
   "metadata": {},
   "outputs": [
    {
     "data": {
      "text/plain": [
       "<AxesSubplot:xlabel='Survived', ylabel='count'>"
      ]
     },
     "execution_count": 13,
     "metadata": {},
     "output_type": "execute_result"
    },
    {
     "data": {
      "image/png": "[encoded data removed]",
      "text/plain": [
       "<Figure size 432x288 with 1 Axes>"
      ]
     },
     "metadata": {
      "needs_background": "light"
     },
     "output_type": "display_data"
    }
   ],
   "source": [
    "sns.countplot(x = \"Survived\", hue = \"Pclass\", data = train) #confirms 1st class had a good chance for surviving"
   ]
  },
  {
   "cell_type": "code",
   "execution_count": 14,
   "metadata": {},
   "outputs": [
    {
     "data": {
      "text/plain": [
       "<AxesSubplot:xlabel='Embarked', ylabel='count'>"
      ]
     },
     "execution_count": 14,
     "metadata": {},
     "output_type": "execute_result"
    },
    {
     "data": {
      "image/png": "[encoded data removed]",
      "text/plain": [
       "<Figure size 432x288 with 1 Axes>"
      ]
     },
     "metadata": {
      "needs_background": "light"
     },
     "output_type": "display_data"
    }
   ],
   "source": [
    "sns.countplot(x = \"Embarked\", hue = \"Survived\", data = train) #interesting, though given the numbers maybe not significant?"
   ]
  },
  {
   "cell_type": "code",
   "execution_count": 15,
   "metadata": {},
   "outputs": [
    {
     "data": {
      "text/plain": [
       "<AxesSubplot:xlabel='Age', ylabel='Density'>"
      ]
     },
     "execution_count": 15,
     "metadata": {},
     "output_type": "execute_result"
    },
    {
     "data": {
      "image/png": "[encoded data removed]",
      "text/plain": [
       "<Figure size 432x288 with 1 Axes>"
      ]
     },
     "metadata": {
      "needs_background": "light"
     },
     "output_type": "display_data"
    }
   ],
   "source": [
    "sns.kdeplot(x='Age', hue='Survived', data= train, fill=True) #Is this correct?\n"
   ]
  },
  {
   "cell_type": "markdown",
   "metadata": {},
   "source": [
    "Data processing for the model\n",
    "\n",
    "1. convert everything so sk can read it?\n",
    "2. I am going to exclude the cabin data, but the age data nulls might be enough to affect results. Should I just average it for the nulls or exclude?<--\n",
    "3. run the model (success criteria is > 60%)\n",
    "4. add fancier models and try to clean it a bit from there also how tf do I get the test data used"
   ]
  },
  {
   "cell_type": "code",
   "execution_count": 16,
   "metadata": {},
   "outputs": [],
   "source": [
    "train.drop(['Cabin','PassengerId','Name', 'Ticket'], axis=1,inplace=True) #dropping unused/difficult data\n",
    "\n",
    "train = train.dropna(subset =['Embarked', 'Age'])\n"
   ]
  },
  {
   "cell_type": "code",
   "execution_count": 17,
   "metadata": {},
   "outputs": [
    {
     "data": {
      "text/plain": [
       "Survived      int64\n",
       "Pclass        int64\n",
       "Sex          object\n",
       "Age         float64\n",
       "SibSp         int64\n",
       "Parch         int64\n",
       "Fare        float64\n",
       "Embarked     object\n",
       "dtype: object"
      ]
     },
     "execution_count": 17,
     "metadata": {},
     "output_type": "execute_result"
    }
   ],
   "source": [
    "train.dtypes #quick check on what is left, and the data types, it will probably most useful to work with objects\n"
   ]
  },
  {
   "cell_type": "code",
   "execution_count": 18,
   "metadata": {},
   "outputs": [
    {
     "data": {
      "text/plain": [
       "Pclass        int64\n",
       "Sex          object\n",
       "Age         float64\n",
       "SibSp         int64\n",
       "Parch         int64\n",
       "Fare        float64\n",
       "Embarked     object\n",
       "dtype: object"
      ]
     },
     "execution_count": 18,
     "metadata": {},
     "output_type": "execute_result"
    }
   ],
   "source": [
    "test.drop(['Cabin','PassengerId','Name', 'Ticket'], axis=1,inplace=True) #trying to make the test data usable\n",
    "\n",
    "test = test.dropna(subset =['Embarked', 'Age'])\n",
    "\n",
    "test.dtypes"
   ]
  },
  {
   "cell_type": "markdown",
   "metadata": {},
   "source": [
    "From here I am going to try to fit the data into the sklearn modules, I called them all at the beginning, but will reference them. JN is weird in how it calls stuff, still figuring that out but onward. Also, to be very clear, \n",
    "\n",
    "--> survived is the DV, everything else is an IV"
   ]
  },
  {
   "cell_type": "code",
   "execution_count": 19,
   "metadata": {},
   "outputs": [
    {
     "data": {
      "text/html": [
       "<div>\n",
       "<style scoped>\n",
       "    .dataframe tbody tr th:only-of-type {\n",
       "        vertical-align: middle;\n",
       "    }\n",
       "\n",
       "    .dataframe tbody tr th {\n",
       "        vertical-align: top;\n",
       "    }\n",
       "\n",
       "    .dataframe thead th {\n",
       "        text-align: right;\n",
       "    }\n",
       "</style>\n",
       "<table border=\"1\" class=\"dataframe\">\n",
       "  <thead>\n",
       "    <tr style=\"text-align: right;\">\n",
       "      <th></th>\n",
       "      <th>Survived</th>\n",
       "      <th>Pclass</th>\n",
       "      <th>Sex</th>\n",
       "      <th>Age</th>\n",
       "      <th>SibSp</th>\n",
       "      <th>Parch</th>\n",
       "      <th>Fare</th>\n",
       "      <th>Embarked</th>\n",
       "    </tr>\n",
       "  </thead>\n",
       "  <tbody>\n",
       "    <tr>\n",
       "      <th>0</th>\n",
       "      <td>0</td>\n",
       "      <td>3</td>\n",
       "      <td>male</td>\n",
       "      <td>22.0</td>\n",
       "      <td>1</td>\n",
       "      <td>0</td>\n",
       "      <td>7.2500</td>\n",
       "      <td>S</td>\n",
       "    </tr>\n",
       "    <tr>\n",
       "      <th>1</th>\n",
       "      <td>1</td>\n",
       "      <td>1</td>\n",
       "      <td>female</td>\n",
       "      <td>38.0</td>\n",
       "      <td>1</td>\n",
       "      <td>0</td>\n",
       "      <td>71.2833</td>\n",
       "      <td>C</td>\n",
       "    </tr>\n",
       "    <tr>\n",
       "      <th>2</th>\n",
       "      <td>1</td>\n",
       "      <td>3</td>\n",
       "      <td>female</td>\n",
       "      <td>26.0</td>\n",
       "      <td>0</td>\n",
       "      <td>0</td>\n",
       "      <td>7.9250</td>\n",
       "      <td>S</td>\n",
       "    </tr>\n",
       "    <tr>\n",
       "      <th>3</th>\n",
       "      <td>1</td>\n",
       "      <td>1</td>\n",
       "      <td>female</td>\n",
       "      <td>35.0</td>\n",
       "      <td>1</td>\n",
       "      <td>0</td>\n",
       "      <td>53.1000</td>\n",
       "      <td>S</td>\n",
       "    </tr>\n",
       "    <tr>\n",
       "      <th>4</th>\n",
       "      <td>0</td>\n",
       "      <td>3</td>\n",
       "      <td>male</td>\n",
       "      <td>35.0</td>\n",
       "      <td>0</td>\n",
       "      <td>0</td>\n",
       "      <td>8.0500</td>\n",
       "      <td>S</td>\n",
       "    </tr>\n",
       "  </tbody>\n",
       "</table>\n",
       "</div>"
      ],
      "text/plain": [
       "   Survived  Pclass     Sex   Age  SibSp  Parch     Fare Embarked\n",
       "0         0       3    male  22.0      1      0   7.2500        S\n",
       "1         1       1  female  38.0      1      0  71.2833        C\n",
       "2         1       3  female  26.0      0      0   7.9250        S\n",
       "3         1       1  female  35.0      1      0  53.1000        S\n",
       "4         0       3    male  35.0      0      0   8.0500        S"
      ]
     },
     "execution_count": 19,
     "metadata": {},
     "output_type": "execute_result"
    }
   ],
   "source": [
    "train.head() # this shows me the rows and columns for the next part"
   ]
  },
  {
   "cell_type": "code",
   "execution_count": 20,
   "metadata": {},
   "outputs": [
    {
     "name": "stdout",
     "output_type": "stream",
     "text": [
      "[1 0]\n",
      "[2 0 1]\n"
     ]
    }
   ],
   "source": [
    "\n",
    "Encoder = LabelEncoder()\n",
    "\n",
    "#Encode sex column\n",
    "train.iloc[:,2]= Encoder.fit_transform(train.iloc[:,2].values)\n",
    "#print(labelencoder.fit_transform(titanic.iloc[:,2].values))\n",
    "\n",
    "#Encode embarked\n",
    "train.iloc[:,7]= Encoder.fit_transform(train.iloc[:,7].values)\n",
    "#print(labelencoder.fit_transform(titanic.iloc[:,7].values))\n",
    "\n",
    "#Print to check that the values are now ready for data(this part took so long I hated it)\n",
    "print(train['Sex'].unique())\n",
    "print(train['Embarked'].unique())"
   ]
  },
  {
   "cell_type": "code",
   "execution_count": 21,
   "metadata": {},
   "outputs": [],
   "source": [
    "IV = train.iloc[:, 1:8].values #separate for IV and DV predictions I think this is correct\n",
    "\n",
    "DV = train.iloc[:, 0].values"
   ]
  },
  {
   "cell_type": "code",
   "execution_count": 22,
   "metadata": {},
   "outputs": [],
   "source": [
    "X_train, X_test, Y_train, Y_test = train_test_split(IV, DV, test_size = 0.2, random_state = 0)\n",
    "\n",
    "Scale = StandardScaler() #this was needed to stop breaking my machine when running the tests\n",
    "X_train = Scale.fit_transform(X_train)\n",
    "X_test = Scale.transform(X_test)"
   ]
  },
  {
   "cell_type": "code",
   "execution_count": 23,
   "metadata": {},
   "outputs": [],
   "source": [
    "#This is crazy\n",
    "def models(X_train,Y_train):\n",
    "  \n",
    "  #Using Logistic Regression Algorithm to the Training Set\n",
    "  from sklearn.linear_model import LogisticRegression\n",
    "  log = LogisticRegression(random_state = 0)\n",
    "  log.fit(X_train, Y_train)\n",
    "  \n",
    "  #Using KNeighborsClassifier Method of neighbors class to use Nearest Neighbor algorithm\n",
    "  from sklearn.neighbors import KNeighborsClassifier\n",
    "  knn = KNeighborsClassifier(n_neighbors = 5, metric = 'minkowski', p = 2)\n",
    "  knn.fit(X_train, Y_train)\n",
    "\n",
    "  #Using SVC method of svm class to use Support Vector Machine Algorithm\n",
    "  from sklearn.svm import SVC\n",
    "  svc_lin = SVC(kernel = 'linear', random_state = 0)\n",
    "  svc_lin.fit(X_train, Y_train)\n",
    "\n",
    "  #Using SVC method of svm class to use Kernel SVM Algorithm\n",
    "  from sklearn.svm import SVC\n",
    "  svc_rbf = SVC(kernel = 'rbf', random_state = 0)\n",
    "  svc_rbf.fit(X_train, Y_train)\n",
    "\n",
    "  #Using GaussianNB method of naïve_bayes class to use Naïve Bayes Algorithm\n",
    "  from sklearn.naive_bayes import GaussianNB\n",
    "  gauss = GaussianNB()\n",
    "  gauss.fit(X_train, Y_train)\n",
    "\n",
    "  #Using DecisionTreeClassifier of tree class to use Decision Tree Algorithm\n",
    "  from sklearn.tree import DecisionTreeClassifier\n",
    "  tree = DecisionTreeClassifier(criterion = 'entropy', random_state = 0)\n",
    "  tree.fit(X_train, Y_train)\n",
    "\n",
    "  #Using RandomForestClassifier method of ensemble class to use Random Forest Classification algorithm\n",
    "  from sklearn.ensemble import RandomForestClassifier\n",
    "  forest = RandomForestClassifier(n_estimators = 10, criterion = 'entropy', random_state = 0)\n",
    "  forest.fit(X_train, Y_train)\n",
    "  \n",
    "  #print model accuracy on the training data.\n",
    "  print('[0]Logistic Regression Training Accuracy:', log.score(X_train, Y_train))\n",
    "  print('[1]K Nearest Neighbor Training Accuracy:', knn.score(X_train, Y_train))\n",
    "  print('[2]Support Vector Machine (Linear Classifier) Training Accuracy:', svc_lin.score(X_train, Y_train))\n",
    "  print('[3]Support Vector Machine (RBF Classifier) Training Accuracy:', svc_rbf.score(X_train, Y_train))\n",
    "  print('[4]Gaussian Naive Bayes Training Accuracy:', gauss.score(X_train, Y_train))\n",
    "  print('[5]Decision Tree Classifier Training Accuracy:', tree.score(X_train, Y_train))\n",
    "  print('[6]Random Forest Classifier Training Accuracy:', forest.score(X_train, Y_train))\n",
    "  \n",
    "  return log, knn, svc_lin, svc_rbf, gauss, tree, forest"
   ]
  },
  {
   "cell_type": "code",
   "execution_count": 24,
   "metadata": {},
   "outputs": [
    {
     "name": "stdout",
     "output_type": "stream",
     "text": [
      "[0]Logistic Regression Training Accuracy: 0.7978910369068541\n",
      "[1]K Nearest Neighbor Training Accuracy: 0.8664323374340949\n",
      "[2]Support Vector Machine (Linear Classifier) Training Accuracy: 0.7768014059753954\n",
      "[3]Support Vector Machine (RBF Classifier) Training Accuracy: 0.8506151142355008\n",
      "[4]Gaussian Naive Bayes Training Accuracy: 0.8031634446397188\n",
      "[5]Decision Tree Classifier Training Accuracy: 0.9929701230228472\n",
      "[6]Random Forest Classifier Training Accuracy: 0.9753954305799648\n"
     ]
    }
   ],
   "source": [
    "model = models(X_train,Y_train)"
   ]
  },
  {
   "cell_type": "markdown",
   "metadata": {},
   "source": [
    "Applying to the test data?"
   ]
  },
  {
   "cell_type": "code",
   "execution_count": 25,
   "metadata": {},
   "outputs": [
    {
     "data": {
      "text/html": [
       "<div>\n",
       "<style scoped>\n",
       "    .dataframe tbody tr th:only-of-type {\n",
       "        vertical-align: middle;\n",
       "    }\n",
       "\n",
       "    .dataframe tbody tr th {\n",
       "        vertical-align: top;\n",
       "    }\n",
       "\n",
       "    .dataframe thead th {\n",
       "        text-align: right;\n",
       "    }\n",
       "</style>\n",
       "<table border=\"1\" class=\"dataframe\">\n",
       "  <thead>\n",
       "    <tr style=\"text-align: right;\">\n",
       "      <th></th>\n",
       "      <th>Pclass</th>\n",
       "      <th>Sex</th>\n",
       "      <th>Age</th>\n",
       "      <th>SibSp</th>\n",
       "      <th>Parch</th>\n",
       "      <th>Fare</th>\n",
       "      <th>Embarked</th>\n",
       "    </tr>\n",
       "  </thead>\n",
       "  <tbody>\n",
       "    <tr>\n",
       "      <th>0</th>\n",
       "      <td>3</td>\n",
       "      <td>male</td>\n",
       "      <td>34.5</td>\n",
       "      <td>0</td>\n",
       "      <td>0</td>\n",
       "      <td>7.8292</td>\n",
       "      <td>Q</td>\n",
       "    </tr>\n",
       "    <tr>\n",
       "      <th>1</th>\n",
       "      <td>3</td>\n",
       "      <td>female</td>\n",
       "      <td>47.0</td>\n",
       "      <td>1</td>\n",
       "      <td>0</td>\n",
       "      <td>7.0000</td>\n",
       "      <td>S</td>\n",
       "    </tr>\n",
       "    <tr>\n",
       "      <th>2</th>\n",
       "      <td>2</td>\n",
       "      <td>male</td>\n",
       "      <td>62.0</td>\n",
       "      <td>0</td>\n",
       "      <td>0</td>\n",
       "      <td>9.6875</td>\n",
       "      <td>Q</td>\n",
       "    </tr>\n",
       "    <tr>\n",
       "      <th>3</th>\n",
       "      <td>3</td>\n",
       "      <td>male</td>\n",
       "      <td>27.0</td>\n",
       "      <td>0</td>\n",
       "      <td>0</td>\n",
       "      <td>8.6625</td>\n",
       "      <td>S</td>\n",
       "    </tr>\n",
       "    <tr>\n",
       "      <th>4</th>\n",
       "      <td>3</td>\n",
       "      <td>female</td>\n",
       "      <td>22.0</td>\n",
       "      <td>1</td>\n",
       "      <td>1</td>\n",
       "      <td>12.2875</td>\n",
       "      <td>S</td>\n",
       "    </tr>\n",
       "  </tbody>\n",
       "</table>\n",
       "</div>"
      ],
      "text/plain": [
       "   Pclass     Sex   Age  SibSp  Parch     Fare Embarked\n",
       "0       3    male  34.5      0      0   7.8292        Q\n",
       "1       3  female  47.0      1      0   7.0000        S\n",
       "2       2    male  62.0      0      0   9.6875        Q\n",
       "3       3    male  27.0      0      0   8.6625        S\n",
       "4       3  female  22.0      1      1  12.2875        S"
      ]
     },
     "execution_count": 25,
     "metadata": {},
     "output_type": "execute_result"
    }
   ],
   "source": [
    "test.head() #damnit do I have to do all that again to clean it?"
   ]
  },
  {
   "cell_type": "code",
   "execution_count": 26,
   "metadata": {},
   "outputs": [
    {
     "data": {
      "text/plain": [
       "Pclass      0\n",
       "Sex         0\n",
       "Age         0\n",
       "SibSp       0\n",
       "Parch       0\n",
       "Fare        1\n",
       "Embarked    0\n",
       "dtype: int64"
      ]
     },
     "execution_count": 26,
     "metadata": {},
     "output_type": "execute_result"
    }
   ],
   "source": [
    "test.isnull().sum() #well with so few nulls I actually don't need to do much, I am just gonna drop that 1 fare"
   ]
  },
  {
   "cell_type": "code",
   "execution_count": 27,
   "metadata": {},
   "outputs": [],
   "source": [
    "test = test.dropna(subset =['Fare']) #this should drop that one, I could also have given avg/median value"
   ]
  },
  {
   "cell_type": "code",
   "execution_count": 28,
   "metadata": {},
   "outputs": [
    {
     "name": "stdout",
     "output_type": "stream",
     "text": [
      "[0]Logistic Regression Training Accuracy: 0.8601398601398601\n",
      "[1]K Nearest Neighbor Training Accuracy: 0.8531468531468531\n",
      "[2]Support Vector Machine (Linear Classifier) Training Accuracy: 0.8181818181818182\n",
      "[3]Support Vector Machine (RBF Classifier) Training Accuracy: 0.8391608391608392\n",
      "[4]Gaussian Naive Bayes Training Accuracy: 0.7902097902097902\n",
      "[5]Decision Tree Classifier Training Accuracy: 0.993006993006993\n",
      "[6]Random Forest Classifier Training Accuracy: 0.972027972027972\n"
     ]
    }
   ],
   "source": [
    "model = models(X_test,Y_test) # Should be it? these results are good, DCT and RFC are best"
   ]
  },
  {
   "cell_type": "code",
   "execution_count": null,
   "metadata": {},
   "outputs": [],
   "source": []
  }
 ],
 "metadata": {
  "kernelspec": {
   "display_name": "Python 3",
   "language": "python",
   "name": "python3"
  },
  "language_info": {
   "codemirror_mode": {
    "name": "ipython",
    "version": 3
   },
   "file_extension": ".py",
   "mimetype": "text/x-python",
   "name": "python",
   "nbconvert_exporter": "python",
   "pygments_lexer": "ipython3",
   "version": "3.8.5"
  }
 },
 "nbformat": 4,
 "nbformat_minor": 4
}
